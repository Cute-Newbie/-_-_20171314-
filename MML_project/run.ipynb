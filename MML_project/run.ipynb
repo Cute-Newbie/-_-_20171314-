{
 "cells": [
  {
   "cell_type": "code",
   "execution_count": 5,
   "metadata": {},
   "outputs": [
    {
     "name": "stdout",
     "output_type": "stream",
     "text": [
      "<class 'pandas.core.frame.DataFrame'>\n",
      "RangeIndex: 33217 entries, 0 to 33216\n",
      "Data columns (total 11 columns):\n",
      " #   Column                       Non-Null Count  Dtype  \n",
      "---  ------                       --------------  -----  \n",
      " 0   ID                           33217 non-null  object \n",
      " 1   Delivery_person_ID           33217 non-null  object \n",
      " 2   Delivery_person_Age          33217 non-null  int64  \n",
      " 3   Delivery_person_Ratings      33217 non-null  float64\n",
      " 4   Restaurant_latitude          33217 non-null  float64\n",
      " 5   Restaurant_longitude         33217 non-null  float64\n",
      " 6   Delivery_location_latitude   33217 non-null  float64\n",
      " 7   Delivery_location_longitude  33217 non-null  float64\n",
      " 8   Type_of_order                33217 non-null  object \n",
      " 9   Type_of_vehicle              33217 non-null  int64  \n",
      " 10  Distance                     33217 non-null  float64\n",
      "dtypes: float64(6), int64(2), object(3)\n",
      "memory usage: 2.8+ MB\n",
      "None\n",
      "Linear_Regressor\n",
      "6.316751675623263\n",
      "MAE LOSS:6.316751675623263\n",
      "7.95785315186588\n",
      "RMSE LOSS:7.95785315186588\n",
      "=======================================\n",
      "Polynominal_Regression\n",
      "6.316751675623263\n",
      "MAE LOSS:6.316751675623263\n",
      "7.95785315186588\n",
      "RMSE LOSS:7.95785315186588\n"
     ]
    }
   ],
   "source": [
    "%run main.py"
   ]
  },
  {
   "cell_type": "code",
   "execution_count": null,
   "metadata": {},
   "outputs": [],
   "source": []
  },
  {
   "cell_type": "code",
   "execution_count": null,
   "metadata": {},
   "outputs": [],
   "source": []
  },
  {
   "cell_type": "code",
   "execution_count": null,
   "metadata": {},
   "outputs": [],
   "source": []
  },
  {
   "cell_type": "code",
   "execution_count": null,
   "metadata": {},
   "outputs": [],
   "source": []
  },
  {
   "cell_type": "code",
   "execution_count": null,
   "metadata": {},
   "outputs": [],
   "source": []
  },
  {
   "cell_type": "code",
   "execution_count": null,
   "metadata": {},
   "outputs": [],
   "source": []
  },
  {
   "cell_type": "code",
   "execution_count": null,
   "metadata": {},
   "outputs": [],
   "source": []
  }
 ],
 "metadata": {
  "kernelspec": {
   "display_name": "Python 3",
   "language": "python",
   "name": "python3"
  },
  "language_info": {
   "codemirror_mode": {
    "name": "ipython",
    "version": 3
   },
   "file_extension": ".py",
   "mimetype": "text/x-python",
   "name": "python",
   "nbconvert_exporter": "python",
   "pygments_lexer": "ipython3",
   "version": "3.9.13"
  }
 },
 "nbformat": 4,
 "nbformat_minor": 2
}
