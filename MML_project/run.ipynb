{
 "cells": [
  {
   "cell_type": "code",
   "execution_count": 1,
   "metadata": {},
   "outputs": [
    {
     "name": "stdout",
     "output_type": "stream",
     "text": [
      "Linear_Regression\n",
      "MAE LOSS:6.316751675623263\n",
      "RMSE LOSS:7.95785315186588\n",
      "=======================================\n",
      "Polynominal_Regression,degree=2\n",
      "MAE LOSS:6.217345593437062\n",
      "RMSE LOSS:7.818229823411404\n",
      "=======================================\n",
      "Polynominal Regression,degree=3\n",
      "MAE LOSS:6.131885439716207\n",
      "RMSE LOSS:7.7029077217428865\n",
      "=======================================\n",
      "Polynominal Regression,degree=4\n",
      "MAE LOSS:16.497264376761866\n",
      "RMSE LOSS:19.702211063944603\n",
      "=======================================\n",
      "Polynominal Regression,degree=5\n",
      "MAE LOSS:43.04993073733579\n",
      "RMSE LOSS:45.87686629805534\n"
     ]
    }
   ],
   "source": [
    "%run main.py"
   ]
  }
 ],
 "metadata": {
  "kernelspec": {
   "display_name": "Python 3",
   "language": "python",
   "name": "python3"
  },
  "language_info": {
   "codemirror_mode": {
    "name": "ipython",
    "version": 3
   },
   "file_extension": ".py",
   "mimetype": "text/x-python",
   "name": "python",
   "nbconvert_exporter": "python",
   "pygments_lexer": "ipython3",
   "version": "3.9.13"
  }
 },
 "nbformat": 4,
 "nbformat_minor": 2
}
